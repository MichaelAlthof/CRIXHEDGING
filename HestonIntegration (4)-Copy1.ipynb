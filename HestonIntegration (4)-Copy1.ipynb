{
 "cells": [
  {
   "cell_type": "code",
   "execution_count": 2,
   "metadata": {},
   "outputs": [],
   "source": [
    "#Packages\n",
    "\n",
    "import math\n",
    "import numpy as np\n",
    "import scipy as sp\n",
    "import numpy.random as npr  \n",
    "import scipy.stats as scs\n",
    "import matplotlib.pyplot as plt\n",
    "import numpy.random as npr\n",
    "import pandas as pd\n",
    "import seaborn as sns\n",
    "import statistics\n",
    "\n",
    "\n",
    "#seaborn.set_style(\"ticks\")\n",
    "\n",
    "from numpy import meshgrid, sqrt, diff\n",
    "from scipy import inf, pi, exp, linspace, zeros, real, imag, array, log\n",
    "from scipy.stats import norm\n",
    "from scipy.special import p_roots"
   ]
  },
  {
   "cell_type": "code",
   "execution_count": 3,
   "metadata": {},
   "outputs": [],
   "source": [
    "# SVCJ parameters\n",
    "mu      = 0.042\n",
    "r       = mu\n",
    "mu_y    = -0.0492\n",
    "sigma_y = 2.061\n",
    "l       = 0.0515\n",
    "alpha   = 0.0102\n",
    "beta    = -0.188\n",
    "rho     = 0.275\n",
    "sigma_v = 0.007\n",
    "rho_j   = 0#-0.210\n",
    "mu_v    = 0.709\n",
    "v0      = 0.19**2 \n",
    "kappa   = 1-beta\n",
    "theta   = alpha / kappa"
   ]
  },
  {
   "cell_type": "code",
   "execution_count": 4,
   "metadata": {},
   "outputs": [
    {
     "data": {
      "text/plain": [
       "(30000, 1441)"
      ]
     },
     "execution_count": 4,
     "metadata": {},
     "output_type": "execute_result"
    }
   ],
   "source": [
    "npr.seed(12345)\n",
    "dt      = 1/360.0# dt\n",
    "m       = int(360.0 * (1/dt)/90.) # time horizon in days\n",
    "n       = 10000*3\n",
    "\n",
    "#for trials\n",
    "#dt = 1/10\n",
    "#n= 1000\n",
    "#m = int(10*(1/dt)/10)\n",
    "\n",
    "\n",
    "T      = m * dt\n",
    "t      = np.arange(0,T+dt, dt)\n",
    "ttm    = T- np.arange(0, m+1, 1)/m\n",
    "\n",
    "#Hedge \n",
    "hestondelta     = np.zeros([n,m+1])\n",
    "ttmmatrix       = np.insert(ttm, 0, 0., axis=0)\n",
    "ttmmatrix       = T-np.tile(ttm, (n, 1))\n",
    "ttmmatrix.shape\n",
    "\n",
    "#for trials\n",
    "#dt = 1/10\n",
    "#n= 1000\n",
    "#m = int(10*(1/dt)/10)"
   ]
  },
  {
   "cell_type": "code",
   "execution_count": 5,
   "metadata": {},
   "outputs": [],
   "source": [
    "#Heston model parameters\n",
    "\n",
    "kappa_heston = 67.521\n",
    "theta_heston = 0.006\n",
    "sigmav_heston = 0.920\n",
    "rho_heston   = -0.994\n",
    "v0_heston    = 3.406\n",
    "r_heston     = mu\n",
    "\n"
   ]
  },
  {
   "cell_type": "code",
   "execution_count": 6,
   "metadata": {},
   "outputs": [],
   "source": [
    "w      = npr.standard_normal([n,m])\n",
    "w2     = rho * w + sp.sqrt(1-rho**2) * npr.standard_normal([n,m])\n",
    "z_v    = npr.exponential(mu_v, [n,m])\n",
    "z_y    = npr.standard_normal([n,m]) * sigma_y + mu_y + rho_j * z_v\n",
    "dj     = npr.binomial(1, l * dt, size=[n,m])\n",
    "s      = np.zeros([n,m+1])\n",
    "v      = np.zeros([n,m+1])"
   ]
  },
  {
   "cell_type": "code",
   "execution_count": 7,
   "metadata": {},
   "outputs": [],
   "source": [
    "s0     = 6500\n",
    "k      = 6500\n",
    "s[:,0] = s0 # initial CRIX level, p. 20\n",
    "v[:,0] = v0"
   ]
  },
  {
   "cell_type": "code",
   "execution_count": 8,
   "metadata": {
    "scrolled": true
   },
   "outputs": [
    {
     "name": "stderr",
     "output_type": "stream",
     "text": [
      "/Users/lilimatic/anaconda3/envs/lilisthesis/lib/python3.7/site-packages/ipykernel_launcher.py:3: ComplexWarning: Casting complex values to real discards the imaginary part\n",
      "  This is separate from the ipykernel package so we can avoid doing imports until\n"
     ]
    }
   ],
   "source": [
    "for i in range(1,m+1):\n",
    "    v[:,i] = v[:,i-1] + kappa * (theta - np.maximum(0,v[:,i-1])) * dt + sigma_v * sp.sqrt(np.maximum(0,v[:,i-1])) * w2[:,i-1] + z_v[:,i-1] * dj[:,i-1]\n",
    "    s[:,i] = s[:,i-1] * (1 + (r - l * (mu_y + rho_j * mu_v)) * dt + sp.sqrt(v[:,i-1] * dt) * w[:,i-1]) + z_v[:,i-1] * dj[:,i-1]"
   ]
  },
  {
   "cell_type": "code",
   "execution_count": 9,
   "metadata": {},
   "outputs": [],
   "source": [
    "k = 6500*0.95"
   ]
  },
  {
   "cell_type": "code",
   "execution_count": 10,
   "metadata": {},
   "outputs": [
    {
     "data": {
      "text/plain": [
       "1595.812000498775"
      ]
     },
     "execution_count": 10,
     "metadata": {},
     "output_type": "execute_result"
    }
   ],
   "source": [
    "# Option pricing \n",
    "cp    = np.exp(-mu * m * dt) * np.maximum(s[:,-1]-k,0).mean()\n",
    "cp"
   ]
  },
  {
   "cell_type": "code",
   "execution_count": 11,
   "metadata": {},
   "outputs": [],
   "source": [
    "def integrate(func):\n",
    "\n",
    "    pts = 20\n",
    "\n",
    "    [phi, w] = p_roots(pts)\n",
    "\n",
    "    a = 0\n",
    "    b = 500\n",
    "\n",
    "    x = (b - a) * phi / 2 + (a + b) / 2\n",
    "\n",
    "    smatrix2   = np.resize(s, (pts, n, m+1))\n",
    "    ttmmatrix2 = np.resize(ttmmatrix, (pts, n, m+1))\n",
    "    xmatrix2   = np.transpose(np.resize(x, (m+1, n, pts)))\n",
    "\n",
    "    return np.transpose((b - a) / 2 * np.sum((w * np.transpose(func(smatrix2, ttmmatrix2, xmatrix2))), axis=2))"
   ]
  },
  {
   "cell_type": "code",
   "execution_count": 12,
   "metadata": {},
   "outputs": [],
   "source": [
    "def plot(output, i):\n",
    "\n",
    "    fig, ax1 = plt.subplots()\n",
    "\n",
    "    color = 'tab:red'\n",
    "    ax1.set_xlabel('time (s)')\n",
    "    ax1.set_ylabel('spot', color=color)\n",
    "    ax1.plot(s[i,0:-1], color=color)\n",
    "    ax1.tick_params(axis='y', labelcolor=color)\n",
    "\n",
    "    ax2 = ax1.twinx()  # instantiate a second axes that shares the same x-axis\n",
    "\n",
    "    color = 'tab:blue'\n",
    "    ax2.set_ylabel('delta', color=color)  # we already handled the x-label with ax1\n",
    "    ax2.plot(output[i,0:-1], color=color)\n",
    "    ax2.tick_params(axis='y', labelcolor=color)\n",
    "\n",
    "    fig.tight_layout()  # otherwise the right y-label is slightly clipped\n",
    "    plt.savefig('DeltaPlot'+str(i),transparent=T)\n",
    "    plt.show()"
   ]
  },
  {
   "cell_type": "markdown",
   "metadata": {},
   "source": [
    "\\begin{equation}\n",
    "\\begin{aligned} g &=\\frac{b_{j}-\\rho \\sigma \\phi i+d}{b_{j}-\\rho \\sigma \\phi i-d} \\\\ d &=\\sqrt{\\left(\\rho \\sigma \\phi i-b_{j}\\right)^{2}-\\sigma^{2}\\left(2 u_{j} \\phi i-\\phi^{2}\\right)} \\end{aligned}\n",
    "\\end{equation}\n",
    "\n",
    "## 1. Program \n",
    "\n",
    "\\begin{equation}\n",
    "\\begin{aligned} \n",
    "f_{j}\\left(x, V_{t}, T, \\phi\\right) &=\\exp \\left\\{C(T-t, \\phi)+D(T-t, \\phi) V_{t}+i \\phi x\\right\\} \\\\ \n",
    "C(T-t, \\phi) &=r \\phi i r+\\frac{a}{\\sigma^{2}}\\left[\\left(b_{j}-\\rho \\sigma \\phi i+d\\right) \\tau-2 \\ln \\left(\\frac{1-g e^{d r}}{1-g}\\right)\\right] \\\\ D(T-t, \\phi) &=\\frac{b_{j}-\\rho \\sigma \\phi i+d}{\\sigma^{2}}\\left(\\frac{1-e^{d r}}{1-g e^{d r}}\\right) \\end{aligned}\n",
    "\\end{equation}\n",
    "\n",
    "## 2.Program \n",
    "\n",
    "\\begin{equation}\n",
    "\\begin{aligned} P_{j}\\left(x, V_{t}, T, K\\right) &=\\frac{1}{2}+\\frac{1}{\\pi} \\int_{0}^{\\infty} \\operatorname{Re}\\left(\\frac{e^{-i \\phi \\ln (K)} f_{j}\\left(x, V_{t}, T, \\phi\\right)}{i \\phi}\\right) d \\phi \\\\ x &=\\ln \\left(S_{t}\\right) \\end{aligned}\n",
    "\\end{equation}\n",
    "\n",
    "\n",
    "\n",
    "\n",
    "\n"
   ]
  },
  {
   "cell_type": "code",
   "execution_count": 13,
   "metadata": {},
   "outputs": [],
   "source": [
    "# inner integral function \n",
    "\n",
    "def funkcija(s, ttm, phi, type):\n",
    "    if type == 1:\n",
    "        u = 0.5\n",
    "        b = kappa_heston - rho_heston*sigmav_heston\n",
    "    else:\n",
    "        u = -0.5\n",
    "        b = kappa_heston\n",
    "        \n",
    "    a = kappa_heston*theta_heston\n",
    "    x = sp.log(s)\n",
    "    \n",
    "    d = sp.sqrt((rho_heston*sigmav_heston*phi*1j-b)**2-(sigmav_heston**2)*(2*u*phi*1j-phi**2))\n",
    "    g = (b-rho_heston*sigmav_heston*phi*1j + d)/(b-rho_heston*sigmav_heston*phi*1j - d)\n",
    "    \n",
    "    C = r*phi*1j*ttm + (a/(sigmav_heston**2)) *((b- rho_heston*sigmav_heston*phi*1j + d)*ttm -2*sp.log((1-g*sp.exp(d*ttm))/(1-g)));\n",
    "\n",
    "    D = (b-rho_heston*sigmav_heston*phi*1j + d)/(sigmav_heston**2)*((1-sp.exp(d*ttm))/ (1-g*sp.exp(d*ttm)));\n",
    "    f = sp.exp(C + D*v0_heston + 1j*phi*x)\n",
    "    \n",
    "    return f"
   ]
  },
  {
   "cell_type": "code",
   "execution_count": null,
   "metadata": {},
   "outputs": [],
   "source": [
    "def integrand(s, ttm, phi):\n",
    "    return (sp.exp(-1j*phi*sp.log(k))*funkcija(s, ttm, phi, 1)/(1j*phi)).real\n",
    "\n",
    "P1 = .5 + integrate(integrand) / sp.pi\n",
    "    \n",
    "plot(P1, 20)"
   ]
  },
  {
   "cell_type": "code",
   "execution_count": null,
   "metadata": {},
   "outputs": [],
   "source": [
    "# inner integral function \n",
    "\n",
    "def innerfunc1(s, ttm, phi):\n",
    "    return(sp.exp(-1j*phi*sp.log(k))*funkcija(s, ttm, phi, 1)/(s)).real"
   ]
  },
  {
   "cell_type": "code",
   "execution_count": null,
   "metadata": {},
   "outputs": [],
   "source": [
    "def innerfunc2(s, ttm, phi):\n",
    "    return(sp.exp(-1j*phi*sp.log(k))*funkcija(s, ttm, phi, 2)/(s)).real\n",
    "\n",
    "delta = P1 + s * integrate(innerfunc1) / sp.pi - k * integrate(innerfunc2) / sp.pi\n",
    "    \n",
    "plot(delta, 20)"
   ]
  },
  {
   "cell_type": "code",
   "execution_count": null,
   "metadata": {},
   "outputs": [],
   "source": [
    "# initial setup of hedge; this is the same for all simulation scenarios\n",
    "t = 0;\n",
    "d = delta[0,0]\n",
    "s_pos = d*s[0,0] # hedge in stock\n",
    "b_pos = cp - s_pos # borrow remainder from bank account\n",
    "[cp, d, s_pos, b_pos, (s_pos + b_pos)]\n",
    "\n",
    "b_pos0 = b_pos\n",
    "s_pos0 = s_pos\n",
    "d0 = d\n",
    "\n",
    "PnL = np.zeros(n);\n",
    "\n",
    "# daily rebalancing\n",
    "\n",
    "for i in range(1,m):\n",
    "    ttm = T - i*dt\n",
    "    pos = d * s[:,i] + b_pos * np.exp(r*dt) # current position value\n",
    "    d = delta[:,i] # new delta\n",
    "    s_pos = d * s[:,i]\n",
    "    b_pos = pos - s_pos # make strategy self-financing any surplus or funds needed go through the bank account\n",
    "    # final day / payoff\n",
    "    \n",
    "PnL = (- np.maximum(s[:,-1]-6500,0) + d * s[:,i] + b_pos * np.exp(r*dt))/cp"
   ]
  },
  {
   "cell_type": "code",
   "execution_count": null,
   "metadata": {},
   "outputs": [],
   "source": [
    "c, bins, patches = plt.hist(x=PnL, bins=1000, color='b',alpha=0.7, rwidth=0.7)\n",
    "plt.xlabel('Relative profit')\n",
    "plt.ylabel('Frequency')\n",
    "#plt.title('Black Scholes Delta Hedge Relative Profit and Loss for a spot of 6500 and a strike of 6500')\n",
    "maxfreq = c.max()\n",
    "# Set a clean upper y-axis limit.\n",
    "#plt.ylim(ymax=np.ceil(maxfreq / 10) * 10 if maxfreq % 10 else maxfreq + 10)\n",
    "plt.xlim(xmin = -2.5, xmax=1)\n",
    "plt.savefig('PnLBSDeltaHedgeATMPNL',transparent=T)\n",
    "plt.show()"
   ]
  },
  {
   "cell_type": "code",
   "execution_count": null,
   "metadata": {},
   "outputs": [],
   "source": [
    "hedgeerror = [100*statistics.stdev(PnL)/cp]\n",
    "hedgeerror"
   ]
  },
  {
   "cell_type": "code",
   "execution_count": null,
   "metadata": {},
   "outputs": [],
   "source": [
    "a = np.array(PnL) \n",
    "quantile = [0.001, 0.01, 0.05,0.1,0.25,0.50,0.75,0.90,0.95, 0.99,0.999]\n",
    "quantilesBS90 = np.zeros(len(quantile))\n",
    "for i in range(len(quantile)):\n",
    "    quantilesBS90[i] = np.quantile(a,quantile[i])\n",
    "quantilesBS90"
   ]
  },
  {
   "cell_type": "code",
   "execution_count": null,
   "metadata": {},
   "outputs": [],
   "source": [
    "BS90 = [round(x,3) for x in list(quantilesBS90)]"
   ]
  },
  {
   "cell_type": "code",
   "execution_count": null,
   "metadata": {},
   "outputs": [],
   "source": [
    "std90 = round(statistics.stdev(PnL),3)\n",
    "skew  = round(scs.skew(PnL),3)\n",
    "kurt  = round(scs.kurtosis(PnL),3)"
   ]
  },
  {
   "cell_type": "code",
   "execution_count": null,
   "metadata": {},
   "outputs": [],
   "source": [
    "[std90, \n",
    "skew,  \n",
    "kurt] "
   ]
  },
  {
   "cell_type": "code",
   "execution_count": null,
   "metadata": {},
   "outputs": [],
   "source": [
    "kurt  = round(scs.kurtosis(PnL),3)"
   ]
  },
  {
   "cell_type": "code",
   "execution_count": null,
   "metadata": {},
   "outputs": [],
   "source": [
    "np.quantile(PnL,0.5)"
   ]
  },
  {
   "cell_type": "code",
   "execution_count": null,
   "metadata": {},
   "outputs": [],
   "source": [
    "plot(delta, 20)\n",
    "plot(delta, 1000)"
   ]
  },
  {
   "cell_type": "code",
   "execution_count": null,
   "metadata": {},
   "outputs": [],
   "source": [
    "BS90"
   ]
  },
  {
   "cell_type": "code",
   "execution_count": null,
   "metadata": {},
   "outputs": [],
   "source": [
    "[-6.072,\n",
    " -1.679,\n",
    " -0.184,\n",
    " -0.064,\n",
    " 0.121,\n",
    " 0.323,\n",
    " 0.508,\n",
    " 0.644,\n",
    " 0.714,\n",
    " 0.875,\n",
    " 3.54]"
   ]
  },
  {
   "cell_type": "code",
   "execution_count": null,
   "metadata": {},
   "outputs": [],
   "source": [
    "array([-4.88657545, -1.47178906, -0.15053428, -0.04047356,  0.13359705,\n",
    "        0.3233244 ,  0.50038086,  0.62334402,  0.68679899,  0.818698  ,\n",
    "        4.81889841])"
   ]
  },
  {
   "cell_type": "code",
   "execution_count": null,
   "metadata": {},
   "outputs": [],
   "source": [
    "delta.shape\n"
   ]
  },
  {
   "cell_type": "code",
   "execution_count": null,
   "metadata": {},
   "outputs": [],
   "source": [
    "BS90"
   ]
  },
  {
   "cell_type": "code",
   "execution_count": null,
   "metadata": {},
   "outputs": [],
   "source": [
    "#180[3.116, -75.567, 672.417]"
   ]
  },
  {
   "cell_type": "code",
   "execution_count": null,
   "metadata": {},
   "outputs": [],
   "source": []
  }
 ],
 "metadata": {
  "kernelspec": {
   "display_name": "Python 3",
   "language": "python",
   "name": "python3"
  },
  "language_info": {
   "codemirror_mode": {
    "name": "ipython",
    "version": 3
   },
   "file_extension": ".py",
   "mimetype": "text/x-python",
   "name": "python",
   "nbconvert_exporter": "python",
   "pygments_lexer": "ipython3",
   "version": "3.7.3"
  }
 },
 "nbformat": 4,
 "nbformat_minor": 2
}
